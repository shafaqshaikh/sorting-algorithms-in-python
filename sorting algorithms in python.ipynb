{
 "cells": [
  {
   "cell_type": "markdown",
   "metadata": {},
   "source": [
    "# Merge Sort"
   ]
  },
  {
   "cell_type": "code",
   "execution_count": 2,
   "metadata": {},
   "outputs": [
    {
     "name": "stdout",
     "output_type": "stream",
     "text": [
      "enter the number of elements7\n",
      "2\n",
      "5\n",
      "1\n",
      "3\n",
      "4\n",
      "7\n",
      "5\n",
      "the sorted elements are [1, 2, 3, 4, 5, 5, 7]\n"
     ]
    }
   ],
   "source": [
    "def mergesort(li):\n",
    "    if len(li) > 1:\n",
    "        mid = len(li)//2\n",
    "        l_li = li[0:mid]\n",
    "        r_li = li[mid:]\n",
    "        mergesort(l_li)\n",
    "        mergesort(r_li)\n",
    "        i=j=k=0\n",
    "        while i < len(l_li) and j < len(r_li):\n",
    "            if l_li[i] < r_li[j]:\n",
    "                li[k] = l_li[i]\n",
    "                i+=1\n",
    "                k+=1\n",
    "            else:\n",
    "                li[k]=r_li[j]\n",
    "                j+=1\n",
    "                k+=1\n",
    "        while i < len(l_li):\n",
    "            li[k]=l_li[i]\n",
    "            i+=1\n",
    "            k+=1\n",
    "            \n",
    "        while j< len(r_li):\n",
    "            li[k]=r_li[j]\n",
    "            j+=1\n",
    "            k+=1\n",
    "num=int(input(\"enter the number of elements\"))            \n",
    "li=[int(input()) for x in range(num)]\n",
    "mergesort(li)\n",
    "print(\"the sorted elements are\" , li)"
   ]
  },
  {
   "cell_type": "markdown",
   "metadata": {},
   "source": [
    "# Bubble Sort"
   ]
  },
  {
   "cell_type": "code",
   "execution_count": 4,
   "metadata": {},
   "outputs": [
    {
     "name": "stdout",
     "output_type": "stream",
     "text": [
      "[1, 2, 3, 5, 7]\n"
     ]
    }
   ],
   "source": [
    "def sort(nums):\n",
    "    for i in range(len(nums)-1 , 0 ,-1):\n",
    "        for j in range(i):\n",
    "            if nums[j] > nums[j+1]:\n",
    "                temp = nums[j]\n",
    "                nums[j]=nums[j+1]\n",
    "                nums[j+1] = temp\n",
    "            \n",
    "\n",
    "\n",
    "\n",
    "nums=[3 , 2 ,1 ,5 , 7]\n",
    "sort(nums)\n",
    "print(nums)\n"
   ]
  },
  {
   "cell_type": "markdown",
   "metadata": {},
   "source": [
    "# Selection Sort"
   ]
  },
  {
   "cell_type": "code",
   "execution_count": 6,
   "metadata": {},
   "outputs": [
    {
     "name": "stdout",
     "output_type": "stream",
     "text": [
      "[2, 3, 5, 6, 7, 8]\n"
     ]
    }
   ],
   "source": [
    "def sort(nums):\n",
    "\n",
    "    for i in range(len(nums)-1):\n",
    "        minpos = i\n",
    "        for j in range(i,len(nums)):\n",
    "            if nums[j] < nums[minpos]:\n",
    "                minpos = j\n",
    "\n",
    "\n",
    "        temp = nums[i]\n",
    "        nums[i] = nums[minpos]\n",
    "        nums[minpos] = temp\n",
    "\n",
    "        \n",
    "\n",
    "\n",
    "nums = [5, 3, 8, 6, 7, 2]\n",
    "sort(nums)\n",
    "\n",
    "print(nums)"
   ]
  },
  {
   "cell_type": "markdown",
   "metadata": {},
   "source": [
    "# Linear Search"
   ]
  },
  {
   "cell_type": "code",
   "execution_count": null,
   "metadata": {},
   "outputs": [],
   "source": [
    "def linear_search(li , k):\n",
    "     i = 0\n",
    "\n",
    "    while i< len(list):\n",
    "        if li[i]==k:\n",
    "            print(\"The number found at position :\" , i)\n",
    "        else:\n",
    "            print(\"number not found\")\n",
    "    \n",
    "        i+=1\n",
    "li=[3 , 4, 5 , 7 ,8]\n",
    "k=4\n",
    "linear_search(li , k)\n"
   ]
  },
  {
   "cell_type": "code",
   "execution_count": null,
   "metadata": {},
   "outputs": [],
   "source": []
  }
 ],
 "metadata": {
  "kernelspec": {
   "display_name": "Python 3",
   "language": "python",
   "name": "python3"
  },
  "language_info": {
   "codemirror_mode": {
    "name": "ipython",
    "version": 3
   },
   "file_extension": ".py",
   "mimetype": "text/x-python",
   "name": "python",
   "nbconvert_exporter": "python",
   "pygments_lexer": "ipython3",
   "version": "3.7.1"
  }
 },
 "nbformat": 4,
 "nbformat_minor": 2
}
